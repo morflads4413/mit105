{
 "cells": [
  {
   "cell_type": "code",
   "execution_count": 1,
   "id": "c0168de5-e350-4278-92f3-5081ffa49640",
   "metadata": {},
   "outputs": [
    {
     "data": {
      "text/plain": [
       "2401"
      ]
     },
     "execution_count": 1,
     "metadata": {},
     "output_type": "execute_result"
    }
   ],
   "source": [
    "7 ** 4"
   ]
  },
  {
   "cell_type": "code",
   "execution_count": 2,
   "id": "62e864a7-189a-4211-ae3d-bf05ed86c790",
   "metadata": {},
   "outputs": [],
   "source": [
    "s= \"Hi there Sam!\""
   ]
  },
  {
   "cell_type": "code",
   "execution_count": 3,
   "id": "f142d911-bc89-472a-92d2-455fddc6b454",
   "metadata": {},
   "outputs": [
    {
     "data": {
      "text/plain": [
       "['Hi', 'there', 'Sam!']"
      ]
     },
     "execution_count": 3,
     "metadata": {},
     "output_type": "execute_result"
    }
   ],
   "source": [
    "s.split()"
   ]
  },
  {
   "cell_type": "code",
   "execution_count": 5,
   "id": "e45cb556-280b-49da-bd77-a96d66fe7a96",
   "metadata": {},
   "outputs": [],
   "source": [
    "planet = \"Earth\"\n",
    "diameter = 12742"
   ]
  },
  {
   "cell_type": "code",
   "execution_count": 7,
   "id": "ee1a503d-87f0-48e4-96f4-869231bed2d2",
   "metadata": {},
   "outputs": [
    {
     "data": {
      "text/plain": [
       "'The diameter of Earth is 12742 kilometers'"
      ]
     },
     "execution_count": 7,
     "metadata": {},
     "output_type": "execute_result"
    }
   ],
   "source": [
    "'The diameter of {} is {} kilometers'.format(planet, diameter)"
   ]
  },
  {
   "cell_type": "code",
   "execution_count": 9,
   "id": "6dac94f7-cdb1-46e5-aa0d-ae273fdd1763",
   "metadata": {},
   "outputs": [],
   "source": [
    "lst = [1,2,[3,4],[5,[100,200,['hello']],23,11],1,7]"
   ]
  },
  {
   "cell_type": "code",
   "execution_count": 12,
   "id": "e485be96-3c73-45ec-b092-69f166c255da",
   "metadata": {},
   "outputs": [
    {
     "data": {
      "text/plain": [
       "['hello']"
      ]
     },
     "execution_count": 12,
     "metadata": {},
     "output_type": "execute_result"
    }
   ],
   "source": [
    "lst[3][1][2]"
   ]
  },
  {
   "cell_type": "code",
   "execution_count": 13,
   "id": "99a99eeb-b309-4503-8499-9d0c57849930",
   "metadata": {},
   "outputs": [],
   "source": [
    "d = {'K1':[1,2,3,{'tricky':['oh','man','inception',{'target':[1,2,3,'hello']}]}]}"
   ]
  },
  {
   "cell_type": "code",
   "execution_count": 17,
   "id": "6d98bcaa-394f-4058-b00a-49bf4cb2c73a",
   "metadata": {},
   "outputs": [
    {
     "data": {
      "text/plain": [
       "'hello'"
      ]
     },
     "execution_count": 17,
     "metadata": {},
     "output_type": "execute_result"
    }
   ],
   "source": [
    "d['K1'][3]['tricky'][3]['target'][3]"
   ]
  },
  {
   "cell_type": "code",
   "execution_count": 24,
   "id": "f0c3f4b5-a1af-4886-878e-8f37f107f8a8",
   "metadata": {},
   "outputs": [],
   "source": [
    "def domainGet(email):\n",
    "    return email.split('@')[1]"
   ]
  },
  {
   "cell_type": "code",
   "execution_count": 25,
   "id": "fffb0f48-b8a8-4d79-83c1-ccb69c9c6c62",
   "metadata": {},
   "outputs": [
    {
     "data": {
      "text/plain": [
       "'domain.com'"
      ]
     },
     "execution_count": 25,
     "metadata": {},
     "output_type": "execute_result"
    }
   ],
   "source": [
    "domainGet('user@domain.com')"
   ]
  },
  {
   "cell_type": "code",
   "execution_count": 26,
   "id": "bdbbb52f-2edd-4ef5-81a9-9636bcb86684",
   "metadata": {},
   "outputs": [],
   "source": [
    "def findDog(s):\n",
    "    return 'dog' in s.lower().split()"
   ]
  },
  {
   "cell_type": "code",
   "execution_count": 27,
   "id": "88eae47f-4fd5-4b59-8bcf-dc4c61c7c518",
   "metadata": {},
   "outputs": [
    {
     "data": {
      "text/plain": [
       "True"
      ]
     },
     "execution_count": 27,
     "metadata": {},
     "output_type": "execute_result"
    }
   ],
   "source": [
    "findDog('is there a dog here?')"
   ]
  },
  {
   "cell_type": "code",
   "execution_count": 29,
   "id": "a83878fc-d6a0-40e7-b6b5-20526f177678",
   "metadata": {},
   "outputs": [],
   "source": [
    "s = 'Is there a dog here?'"
   ]
  },
  {
   "cell_type": "code",
   "execution_count": 30,
   "id": "6d88742f-c398-443a-9060-2a6bca0fc378",
   "metadata": {},
   "outputs": [
    {
     "data": {
      "text/plain": [
       "True"
      ]
     },
     "execution_count": 30,
     "metadata": {},
     "output_type": "execute_result"
    }
   ],
   "source": [
    "'dog' in s.lower().split()"
   ]
  },
  {
   "cell_type": "code",
   "execution_count": 37,
   "id": "31948837-28b9-483f-9bac-ef51db0f89b4",
   "metadata": {},
   "outputs": [],
   "source": [
    "def countDog(st):\n",
    "    count = 0\n",
    "    for word in st.lower().split():\n",
    "        if word == 'dog':\n",
    "                count += 1\n",
    "    return count"
   ]
  },
  {
   "cell_type": "code",
   "execution_count": 38,
   "id": "c348d50d-ec45-4a24-aadf-e7e2cb693a61",
   "metadata": {},
   "outputs": [
    {
     "data": {
      "text/plain": [
       "2"
      ]
     },
     "execution_count": 38,
     "metadata": {},
     "output_type": "execute_result"
    }
   ],
   "source": [
    "countDog('This dog runs faster than the other dog dude!')"
   ]
  },
  {
   "cell_type": "code",
   "execution_count": 39,
   "id": "c5ccb544-fafb-48a2-89d1-bb86ffc53f17",
   "metadata": {},
   "outputs": [],
   "source": [
    "seq = ['soup', 'dog','salad','cat','great']"
   ]
  },
  {
   "cell_type": "code",
   "execution_count": 41,
   "id": "8a86f142-cfaa-42ab-9aa0-a81df25989f2",
   "metadata": {},
   "outputs": [
    {
     "data": {
      "text/plain": [
       "['soup', 'salad']"
      ]
     },
     "execution_count": 41,
     "metadata": {},
     "output_type": "execute_result"
    }
   ],
   "source": [
    "list(filter(lambda word: word[0]=='s',seq))"
   ]
  },
  {
   "cell_type": "code",
   "execution_count": 2,
   "id": "97b68944-9c89-4c63-b67d-5d6ddb1b1294",
   "metadata": {},
   "outputs": [],
   "source": [
    "def caught_speeding(speed, is_birthday):\n",
    "   \n",
    "    if is_birthday:\n",
    "        speeding = speed - 5\n",
    "    else:\n",
    "        speeding = speed\n",
    "        \n",
    "    if speeding > 80:\n",
    "        return 'Big Ticket'\n",
    "    elif speeding > 60:\n",
    "        return 'Small Ticket'\n",
    "    else:\n",
    "        return 'No Ticket'"
   ]
  },
  {
   "cell_type": "code",
   "execution_count": 6,
   "id": "6b7a9ee6-56ef-478c-bca5-4b33d4d644d2",
   "metadata": {},
   "outputs": [
    {
     "data": {
      "text/plain": [
       "'Small Ticket'"
      ]
     },
     "execution_count": 6,
     "metadata": {},
     "output_type": "execute_result"
    }
   ],
   "source": [
    "caught_speeding(81, True)"
   ]
  },
  {
   "cell_type": "code",
   "execution_count": 7,
   "id": "89bb9c9b-454f-4073-b0be-4ba2aa4ba1cc",
   "metadata": {},
   "outputs": [
    {
     "data": {
      "text/plain": [
       "'Big Ticket'"
      ]
     },
     "execution_count": 7,
     "metadata": {},
     "output_type": "execute_result"
    }
   ],
   "source": [
    "caught_speeding(81, False)"
   ]
  },
  {
   "cell_type": "code",
   "execution_count": null,
   "id": "6fb48464-6bdb-4c5a-b7c5-7c4891fc3c9a",
   "metadata": {},
   "outputs": [],
   "source": []
  }
 ],
 "metadata": {
  "kernelspec": {
   "display_name": "Python 3 (ipykernel)",
   "language": "python",
   "name": "python3"
  },
  "language_info": {
   "codemirror_mode": {
    "name": "ipython",
    "version": 3
   },
   "file_extension": ".py",
   "mimetype": "text/x-python",
   "name": "python",
   "nbconvert_exporter": "python",
   "pygments_lexer": "ipython3",
   "version": "3.11.9"
  }
 },
 "nbformat": 4,
 "nbformat_minor": 5
}
